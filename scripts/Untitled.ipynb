{
 "cells": [
  {
   "cell_type": "code",
   "execution_count": 3,
   "id": "01c4ba67",
   "metadata": {},
   "outputs": [],
   "source": [
    "# import modules and necessary functions\n",
    "import pandas as pd"
   ]
  },
  {
   "cell_type": "code",
   "execution_count": 7,
   "id": "9d694b95",
   "metadata": {},
   "outputs": [],
   "source": [
    "samplePlayerID = \"0x2710\"\n",
    "data = {'HexColumn': ['1A', '2B', '3C', samplePlayerID]}"
   ]
  },
  {
   "cell_type": "code",
   "execution_count": 9,
   "id": "a03113de",
   "metadata": {},
   "outputs": [],
   "source": [
    "df = pd.DataFrame(data)"
   ]
  },
  {
   "cell_type": "code",
   "execution_count": 10,
   "id": "aeab90d1",
   "metadata": {},
   "outputs": [],
   "source": [
    "df['DecimalColumn'] = df['HexColumn'].apply(lambda x: int(x, 16))"
   ]
  },
  {
   "cell_type": "code",
   "execution_count": 11,
   "id": "9d4b58ff",
   "metadata": {},
   "outputs": [
    {
     "name": "stdout",
     "output_type": "stream",
     "text": [
      "  HexColumn  DecimalColumn\n",
      "0        1A             26\n",
      "1        2B             43\n",
      "2        3C             60\n",
      "3    0x2710          10000\n"
     ]
    }
   ],
   "source": [
    "print(df)"
   ]
  }
 ],
 "metadata": {
  "kernelspec": {
   "display_name": "Python 3 (ipykernel)",
   "language": "python",
   "name": "python3"
  },
  "language_info": {
   "codemirror_mode": {
    "name": "ipython",
    "version": 3
   },
   "file_extension": ".py",
   "mimetype": "text/x-python",
   "name": "python",
   "nbconvert_exporter": "python",
   "pygments_lexer": "ipython3",
   "version": "3.11.5"
  }
 },
 "nbformat": 4,
 "nbformat_minor": 5
}
